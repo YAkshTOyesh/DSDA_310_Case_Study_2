{
  "nbformat": 4,
  "nbformat_minor": 0,
  "metadata": {
    "colab": {
      "provenance": []
    },
    "kernelspec": {
      "name": "python3",
      "display_name": "Python 3"
    },
    "language_info": {
      "name": "python"
    }
  },
  "cells": [
    {
      "cell_type": "markdown",
      "source": [
        "# Cleaning Sheet: TOTALS"
      ],
      "metadata": {
        "id": "R9MEz570fdLU"
      }
    },
    {
      "cell_type": "code",
      "source": [
        "# Load an excel sheet with a specific sheet name to a df\n",
        "import pandas as pd\n",
        "data = pd.read_excel('/content/AAdi Compiled Data.xlsx', sheet_name='TOTALS')"
      ],
      "metadata": {
        "id": "c1zB7n4Zfblb"
      },
      "execution_count": null,
      "outputs": []
    },
    {
      "cell_type": "code",
      "source": [
        "data.head()"
      ],
      "metadata": {
        "id": "hGs-yZofeIn1"
      },
      "execution_count": null,
      "outputs": []
    },
    {
      "cell_type": "code",
      "source": [
        "# Rename column Unamed: 1 to Aggregation_Category\n",
        "data.rename(columns={'Unnamed: 1': 'Demographic_Category',\n",
        "                     'Period': 'Metric',\n",
        "                     'Thur 1/20/22 - Tue 4/19/22': '2022',\n",
        "                     'Thur 1/21/21 - Tue 4/20/21': '2021'}, inplace=True)"
      ],
      "metadata": {
        "id": "dHYrXwEpeMg0"
      },
      "execution_count": null,
      "outputs": []
    },
    {
      "cell_type": "code",
      "source": [
        "data.head()"
      ],
      "metadata": {
        "id": "ZS9QHpSLeTUw"
      },
      "execution_count": null,
      "outputs": []
    },
    {
      "cell_type": "code",
      "source": [
        "# Convert data to long format\n",
        "data_long = pd.melt(data, id_vars=['Metric', 'Demographic_Category'], var_name='Year', value_name='Value')"
      ],
      "metadata": {
        "id": "g2xAdI-LeXu1"
      },
      "execution_count": null,
      "outputs": []
    },
    {
      "cell_type": "code",
      "source": [
        "data_long.head()"
      ],
      "metadata": {
        "id": "P48_Q4m1e6eA"
      },
      "execution_count": null,
      "outputs": []
    },
    {
      "cell_type": "code",
      "source": [
        "# Check for empty rows\n",
        "data_long.isnull().sum()"
      ],
      "metadata": {
        "id": "1UNSpKPkfD63"
      },
      "execution_count": null,
      "outputs": []
    },
    {
      "cell_type": "code",
      "source": [
        "# Remove empty rows\n",
        "data_long = data_long.dropna()"
      ],
      "metadata": {
        "id": "qw96033afIuq"
      },
      "execution_count": null,
      "outputs": []
    },
    {
      "cell_type": "markdown",
      "source": [
        "# Cleaning Sheet: Traffic"
      ],
      "metadata": {
        "id": "2oWB49AtfxKs"
      }
    },
    {
      "cell_type": "code",
      "source": [
        "data_traffic = pd.read_excel('/content/AAdi Compiled Data.xlsx', sheet_name='Traffic')"
      ],
      "metadata": {
        "id": "PUBOkccNf5SE"
      },
      "execution_count": null,
      "outputs": []
    },
    {
      "cell_type": "code",
      "source": [
        "data_traffic.head()"
      ],
      "metadata": {
        "id": "j9RGAqjPf_Iw"
      },
      "execution_count": null,
      "outputs": []
    },
    {
      "cell_type": "code",
      "source": [
        "data_traffic.rename(columns={'Unnamed: 0': 'Year'}, inplace=True)"
      ],
      "metadata": {
        "id": "apS8IczqgAx-"
      },
      "execution_count": null,
      "outputs": []
    },
    {
      "cell_type": "code",
      "source": [
        "data_traffic.head()"
      ],
      "metadata": {
        "id": "j9oaCuLDgR5u"
      },
      "execution_count": null,
      "outputs": []
    },
    {
      "cell_type": "code",
      "source": [
        "# In column year replace the value 'Thur 1/20/22 - Tue 4/19/22' with 2022\n",
        "data_traffic['Year'] = data_traffic['Year'].replace('Thur 1/20/22 - Tue 4/19/22', 2022)\n",
        "data_traffic['Year'] = data_traffic['Year'].replace('Thur 1/21/21 - Tue 4/20/21', 2021)"
      ],
      "metadata": {
        "colab": {
          "base_uri": "https://localhost:8080/"
        },
        "id": "KRZdb0clgTts",
        "outputId": "7342aeee-0604-445b-cd3f-c8cfde9d25bd"
      },
      "execution_count": null,
      "outputs": [
        {
          "output_type": "stream",
          "name": "stderr",
          "text": [
            "<ipython-input-75-ed4db1d96d29>:3: FutureWarning: Downcasting behavior in `replace` is deprecated and will be removed in a future version. To retain the old behavior, explicitly call `result.infer_objects(copy=False)`. To opt-in to the future behavior, set `pd.set_option('future.no_silent_downcasting', True)`\n",
            "  data_traffic['Year'] = data_traffic['Year'].replace('Thur 1/21/21 - Tue 4/20/21', 2021)\n"
          ]
        }
      ]
    },
    {
      "cell_type": "code",
      "source": [
        "data_traffic.head()"
      ],
      "metadata": {
        "id": "bCcCCufzgwxv"
      },
      "execution_count": null,
      "outputs": []
    },
    {
      "cell_type": "code",
      "source": [
        "# Remove rows where column year is NULL\n",
        "data_traffic = data_traffic.dropna(subset=['Year'])"
      ],
      "metadata": {
        "id": "aiRFZI-Wg-6M"
      },
      "execution_count": null,
      "outputs": []
    },
    {
      "cell_type": "code",
      "source": [
        "# Convert year column to year data type\n",
        "data_traffic['Year'] = data_traffic['Year'].astype(int)"
      ],
      "metadata": {
        "id": "aaS-pic5g3xK"
      },
      "execution_count": null,
      "outputs": []
    },
    {
      "cell_type": "code",
      "source": [
        "data_traffic.head()"
      ],
      "metadata": {
        "id": "YNh3ZQ6HhI8X"
      },
      "execution_count": null,
      "outputs": []
    },
    {
      "cell_type": "code",
      "source": [
        "# Convert data_traffic to long format\n",
        "data_traffic_long = pd.melt(data_traffic, id_vars=['Year', 'Traffic source'], var_name='Metric', value_name='Value')"
      ],
      "metadata": {
        "id": "UXrOoaSahL2I"
      },
      "execution_count": null,
      "outputs": []
    },
    {
      "cell_type": "code",
      "source": [
        "data_traffic_long.head()"
      ],
      "metadata": {
        "id": "vqGQYZAGheb5"
      },
      "execution_count": null,
      "outputs": []
    },
    {
      "cell_type": "code",
      "source": [
        "data_long.head()"
      ],
      "metadata": {
        "id": "qeUJs9nMhkGX"
      },
      "execution_count": null,
      "outputs": []
    },
    {
      "cell_type": "code",
      "source": [
        "data_traffic_long['Traffic source'].value_counts()"
      ],
      "metadata": {
        "id": "zmFyi-y8iF6b"
      },
      "execution_count": null,
      "outputs": []
    },
    {
      "cell_type": "code",
      "source": [
        "data_long['Demographic_Category'].value_counts()"
      ],
      "metadata": {
        "id": "QPP3WnsRiMJg"
      },
      "execution_count": null,
      "outputs": []
    },
    {
      "cell_type": "markdown",
      "source": [
        "# Merging the two tables"
      ],
      "metadata": {
        "id": "mT50r9Zqmugi"
      }
    },
    {
      "cell_type": "code",
      "source": [
        "# Standardize the 'TOTAL' values\n",
        "data_long[\"Demographic_Category\"] = data_long[\"Demographic_Category\"].str.upper()\n",
        "data_traffic_long[\"Traffic source\"] = data_traffic_long[\"Traffic source\"].str.upper()\n",
        "\n",
        "data_long['Traffic source'] = \"TOTAL\"\n",
        "data_traffic_long['Demographic_Category'] = \"TOTAL\"\n",
        "\n",
        "# Combine the tables using a union operation\n",
        "combined_table = pd.concat([data_long, data_traffic_long], ignore_index=True)"
      ],
      "metadata": {
        "id": "Cwv5cDG0mxvD"
      },
      "execution_count": null,
      "outputs": []
    },
    {
      "cell_type": "code",
      "source": [
        "combined_table.head()"
      ],
      "metadata": {
        "id": "1GxWaGw_ouor"
      },
      "execution_count": null,
      "outputs": []
    },
    {
      "cell_type": "code",
      "source": [
        "combined_table.info()"
      ],
      "metadata": {
        "id": "XsUHLqXhOrlX"
      },
      "execution_count": null,
      "outputs": []
    },
    {
      "cell_type": "code",
      "source": [
        "# Convert value column to integer\n",
        "combined_table['Value'].value_counts()"
      ],
      "metadata": {
        "id": "rXk-v7cBO5Y6"
      },
      "execution_count": null,
      "outputs": []
    },
    {
      "cell_type": "code",
      "source": [
        "combined_table['Metric'].value_counts()"
      ],
      "metadata": {
        "id": "DON9Uj6NShJm"
      },
      "execution_count": null,
      "outputs": []
    },
    {
      "cell_type": "code",
      "source": [
        "# Pivot the table to wide format\n",
        "wide_format_df = combined_table.pivot_table(\n",
        "    index=[\"Year\", \"Demographic_Category\", \"Traffic source\"],  # Columns to keep as indices\n",
        "    columns=\"Metric\",  # Column values to spread across\n",
        "    values=\"Value\",  # Values to populate in the new columns\n",
        "    aggfunc=\"first\",  # Use first value in case of duplicates (adjust as needed)\n",
        ").reset_index()\n",
        "\n",
        "# Fix column names after pivoting\n",
        "wide_format_df.columns.name = None  # Remove the name of the columns axis\n",
        "wide_format_df = wide_format_df.rename_axis(None, axis=1)  # Clean up the index"
      ],
      "metadata": {
        "id": "lC2gbcr6SNeK"
      },
      "execution_count": null,
      "outputs": []
    },
    {
      "cell_type": "code",
      "source": [
        "wide_format_df.info()"
      ],
      "metadata": {
        "id": "FXBaRsMPQazj"
      },
      "execution_count": null,
      "outputs": []
    },
    {
      "cell_type": "code",
      "source": [
        "wide_format_df.head()"
      ],
      "metadata": {
        "id": "ju9ikAYNQnKh"
      },
      "execution_count": null,
      "outputs": []
    },
    {
      "cell_type": "code",
      "source": [
        "wide_format_df.to_excel('v4_case_study_2_combined_table.xlsx', index=False)"
      ],
      "metadata": {
        "id": "2k5M8mK4ox1X"
      },
      "execution_count": null,
      "outputs": []
    }
  ]
}